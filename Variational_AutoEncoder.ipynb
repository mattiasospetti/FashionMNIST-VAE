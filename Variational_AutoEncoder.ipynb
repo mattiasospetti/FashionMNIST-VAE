{
  "nbformat": 4,
  "nbformat_minor": 0,
  "metadata": {
    "colab": {
      "provenance": [],
      "collapsed_sections": [
        "9DKZ_39Jjeo4"
      ]
    },
    "kernelspec": {
      "name": "python3",
      "display_name": "Python 3"
    },
    "language_info": {
      "name": "python"
    }
  },
  "cells": [
    {
      "cell_type": "markdown",
      "source": [
        "# VAE testing on Fashion-MNIST"
      ],
      "metadata": {
        "id": "AI8fHVcuugMu"
      }
    },
    {
      "cell_type": "code",
      "source": [
        "#@title Import libraries\n",
        "\n",
        "import tensorflow as tf\n",
        "import os\n",
        "import numpy as np\n",
        "\n",
        "#always check if you have available GPUs --> faster training\n",
        "print(tf.config.list_physical_devices('GPU'))\n",
        "\n",
        "#NB: if you do not find any GPU, check \"Runtime -> Change Runtime Type\" (October 26th 2023)"
      ],
      "metadata": {
        "colab": {
          "base_uri": "https://localhost:8080/"
        },
        "id": "Z-BSb9Nrukzg",
        "outputId": "a97a1932-6b03-41a6-cf27-c6c9939db399"
      },
      "execution_count": 2,
      "outputs": [
        {
          "output_type": "stream",
          "name": "stdout",
          "text": [
            "[]\n"
          ]
        }
      ]
    },
    {
      "cell_type": "code",
      "source": [
        "from tensorflow.keras.datasets import fashion_mnist #(!)\n",
        "\n",
        "(x_train,y_train), (x_test,y_test)=fashion_mnist.load_data() #https://keras.io/api/datasets/fashion_mnist/ --> returns Tuple of NumPy arrays\n",
        "\n",
        "#some assertions to check everything is ok\n",
        "assert x_train.shape ==(60000,28,28) #(number of elems,dims)\n",
        "assert x_test.shape ==(10000,28,28) #(number of elems,dims)\n",
        "assert y_train.shape ==(60000,) #(number of elems,dims)\n",
        "assert y_test.shape ==(10000,) #(number of elems,dims)\n"
      ],
      "metadata": {
        "colab": {
          "base_uri": "https://localhost:8080/"
        },
        "id": "U1-x3CWWuk38",
        "outputId": "14c43994-bbef-4334-ffa6-9ea306414448"
      },
      "execution_count": 3,
      "outputs": [
        {
          "output_type": "stream",
          "name": "stdout",
          "text": [
            "Downloading data from https://storage.googleapis.com/tensorflow/tf-keras-datasets/train-labels-idx1-ubyte.gz\n",
            "29515/29515 [==============================] - 0s 0us/step\n",
            "Downloading data from https://storage.googleapis.com/tensorflow/tf-keras-datasets/train-images-idx3-ubyte.gz\n",
            "26421880/26421880 [==============================] - 0s 0us/step\n",
            "Downloading data from https://storage.googleapis.com/tensorflow/tf-keras-datasets/t10k-labels-idx1-ubyte.gz\n",
            "5148/5148 [==============================] - 0s 0us/step\n",
            "Downloading data from https://storage.googleapis.com/tensorflow/tf-keras-datasets/t10k-images-idx3-ubyte.gz\n",
            "4422102/4422102 [==============================] - 0s 0us/step\n"
          ]
        }
      ]
    },
    {
      "cell_type": "code",
      "source": [
        "#Let's have a look on how dataset looks like, before starting working on it\n",
        "# (it can be interpreted as a second check on the set)\n",
        "\n",
        "import matplotlib.pyplot as plt\n",
        "from random import randrange\n",
        "\n",
        "num_elems=9 # @param {type:\"integer\"}\n",
        "plt.figure(figsize=(num_elems,num_elems))\n",
        "\n",
        "for i in range(num_elems):\n",
        "  plt.subplot(3,3,i+1)\n",
        "  choice=randrange(60000)\n",
        "  plt.imshow(x_train[choice], cmap='gray')\n",
        "  plt.axis('off')\n",
        "  #plt.title(y_train[choice])\n",
        "\n",
        "plt.tight_layout()\n",
        "plt.show()"
      ],
      "metadata": {
        "colab": {
          "base_uri": "https://localhost:8080/",
          "height": 906
        },
        "id": "KaCFsjHXuk6E",
        "outputId": "1bc9e5ed-008b-412b-9c9e-0c8f129888d5"
      },
      "execution_count": 6,
      "outputs": [
        {
          "output_type": "display_data",
          "data": {
            "text/plain": [
              "<Figure size 900x900 with 9 Axes>"
            ],
            "image/png": "[encoded data removed]"
          },
          "metadata": {}
        }
      ]
    },
    {
      "cell_type": "code",
      "source": [
        "# Since we're not interested in a classification task, we can join train and test datasets, to have more training data\n",
        "\n",
        "complete_dataset = np.concatenate([x_train,x_test], axis=0) #TODO: vstack() function?\n",
        "\n",
        "print(complete_dataset[0].shape) #28x28, but conv layers need 28x28xN (N== number of color channels)\n",
        "\n",
        "# axis=-1 is like adding new axis\n",
        "complete_dataset=np.expand_dims(complete_dataset,-1).astype('float32')/255 #/255 to normalize dataset (we'll have values from 0 to 1)\n",
        "assert complete_dataset[0].shape==(28,28,1)\n",
        "\n",
        "for i in range(complete_dataset[0].shape[0]):\n",
        "  print(complete_dataset[0][i]) #you'll see values from 0 to 1\n"
      ],
      "metadata": {
        "colab": {
          "base_uri": "https://localhost:8080/"
        },
        "id": "Vvv1VkR9uk8M",
        "outputId": "b86036a7-26df-4f5d-e55b-5f182a82dcf8"
      },
      "execution_count": null,
      "outputs": []
    },
    {
      "cell_type": "code",
      "source": [
        "from tensorflow import keras\n",
        "from keras import layers\n",
        "\n",
        "class SamplingLayer(layers.Layer):\n",
        "\n",
        "  def call(self,inputs):\n",
        "\n",
        "    #reparameterization trick --> add epsilon to the prob distribution\n",
        "\n",
        "    mean,var=inputs\n",
        "    batch=tf.shape(mean)[0]\n",
        "    dim=tf.shape(mean)[1]\n",
        "    epsilon=tf.keras.backend.random_normal(shape=(batch,dim))\n",
        "    return tf.exp(0.5*var)*epsilon\n"
      ],
      "metadata": {
        "id": "o2ZsHSW9uk-M"
      },
      "execution_count": null,
      "outputs": []
    },
    {
      "cell_type": "markdown",
      "source": [
        "#Encoder-Decoder structure definition\n"
      ],
      "metadata": {
        "id": "hpDdAMl42F1O"
      }
    },
    {
      "cell_type": "code",
      "source": [
        "#@title Encoder (TODO: TRY DIFFERENT NETWORK?)\n",
        "\n",
        "def Encoder(latentDim, inputs):\n",
        "\n",
        "  #feature extractor\n",
        "\n",
        "  l1=keras.models.Sequential([\n",
        "      layers.Conv2D(128,3,activation='relu', strides=2,padding='same'),\n",
        "      layers.Conv2D(64,3,activation='relu', strides=2,padding='same'),\n",
        "      layers.Flatten(),\n",
        "      layers.Dense(256, activation='relu') #256-size embedding vector (most relevant features)\n",
        "  ])\n",
        "\n",
        "  x=l1(inputs)\n",
        "\n",
        "  mean=layers.Dense(latentDim)(x) #todo: add 'name' to the layer\n",
        "\n",
        "  var=layers.Dense(latentDim)(x)\n",
        "\n",
        "  sample=SamplingLayer()([mean,var])\n",
        "\n",
        "  return keras.Model(inputs,[mean,var,sample],name='encoder')\n",
        "\n",
        "inputs=keras.Input(shape=(28,28,1))\n",
        "encoder=Encoder(2,inputs)\n",
        "\n",
        "#Let's have a look at the Encoder\n",
        "encoder.summary()\n"
      ],
      "metadata": {
        "colab": {
          "base_uri": "https://localhost:8080/"
        },
        "id": "2A7ZreMc1ceW",
        "outputId": "2eb34738-b916-46e6-fa58-ea841934ec28"
      },
      "execution_count": null,
      "outputs": [
        {
          "output_type": "stream",
          "name": "stdout",
          "text": [
            "Model: \"encoder\"\n",
            "__________________________________________________________________________________________________\n",
            " Layer (type)                Output Shape                 Param #   Connected to                  \n",
            "==================================================================================================\n",
            " input_5 (InputLayer)        [(None, 28, 28, 1)]          0         []                            \n",
            "                                                                                                  \n",
            " sequential_4 (Sequential)   (None, 256)                  878144    ['input_5[0][0]']             \n",
            "                                                                                                  \n",
            " dense_5 (Dense)             (None, 2)                    514       ['sequential_4[0][0]']        \n",
            "                                                                                                  \n",
            " dense_6 (Dense)             (None, 2)                    514       ['sequential_4[0][0]']        \n",
            "                                                                                                  \n",
            "==================================================================================================\n",
            "Total params: 879172 (3.35 MB)\n",
            "Trainable params: 879172 (3.35 MB)\n",
            "Non-trainable params: 0 (0.00 Byte)\n",
            "__________________________________________________________________________________________________\n"
          ]
        }
      ]
    },
    {
      "cell_type": "code",
      "source": [
        "#@title Decoder\n",
        "\n",
        "def Decoder(inputs):\n",
        "  l1=keras.models.Sequential([\n",
        "      layers.Dense(7*7*64, activation='relu', input_shape=(inputs.shape[1],)),\n",
        "      layers.Reshape((7,7,64)),\n",
        "      layers.Conv2DTranspose(128,3,activation='relu',strides=2, padding='same'), #from 7*7 to 14*14\n",
        "      layers.Conv2DTranspose(64,3,activation='relu',strides=2, padding='same'), #from 14*14 to 28-28\n",
        "      layers.Conv2DTranspose(1,3,activation='sigmoid', padding='same') #1 output channel --> grayscale\n",
        "  ])\n",
        "\n",
        "  return keras.Model(inputs,l1(inputs),name='decoder')\n",
        "\n",
        "inputs=keras.Input(shape=(2,))#look Encoder output shape\n",
        "decoder=Decoder(inputs)\n",
        "decoder.summary()"
      ],
      "metadata": {
        "colab": {
          "base_uri": "https://localhost:8080/"
        },
        "id": "_0Tn1yc-3pdy",
        "outputId": "9b365cdb-a5c4-4483-8841-42fcd75ec587"
      },
      "execution_count": null,
      "outputs": [
        {
          "output_type": "stream",
          "name": "stdout",
          "text": [
            "Model: \"decoder\"\n",
            "_________________________________________________________________\n",
            " Layer (type)                Output Shape              Param #   \n",
            "=================================================================\n",
            " input_11 (InputLayer)       [(None, 2)]               0         \n",
            "                                                                 \n",
            " sequential_6 (Sequential)   (None, 28, 28, 1)         157633    \n",
            "                                                                 \n",
            "=================================================================\n",
            "Total params: 157633 (615.75 KB)\n",
            "Trainable params: 157633 (615.75 KB)\n",
            "Non-trainable params: 0 (0.00 Byte)\n",
            "_________________________________________________________________\n"
          ]
        }
      ]
    },
    {
      "cell_type": "code",
      "source": [
        "#@title LOSS Functions\n",
        "\n",
        "#VAE has two loss functions, reconstruction loss and Kullback-Liebler Divergence loss function\n",
        "\n",
        "#reconstruction_loss: penalizes images different from the input ones\n",
        "def reconstruction_loss(data,reconstructed):\n",
        "  return tf.reduce_mean(\n",
        "      tf.reduce_sum(\n",
        "          keras.losses.binary_crossentropy(data,reconstructed),\n",
        "          axis=(1,2)\n",
        "      )\n",
        "  )\n",
        "\n",
        "#KLDivergence Loss: forces to generate probability distributions similar to the original\n",
        "def KLDivergence(mean,var):\n",
        "  return tf.reduce_mean(\n",
        "      tf.reduce_sum(\n",
        "          -0.5*(1+var-tf.square(mean)-tf.exp(var)),\n",
        "          axis=1\n",
        "      )\n",
        "  )\n",
        "\n",
        "def TotalLoss(data,reconstructed,mean,var):\n",
        "  loss1=reconstruction_loss(data,reconstructed)\n",
        "  loss2=KLDivergence(mean,var)\n",
        "  weight=3.0 #hyperparameter\n",
        "  return loss1+(loss2*weight)\n",
        "\n"
      ],
      "metadata": {
        "id": "L_1OhVgb5kNs",
        "cellView": "form"
      },
      "execution_count": null,
      "outputs": []
    },
    {
      "cell_type": "code",
      "source": [
        "class VAE(keras.Model):\n",
        "  def __init__(self,encoder,decoder,**kwargs):\n",
        "    super(VAE,self).__init__(**kwargs)\n",
        "    self.encoder=encoder\n",
        "    self.decoder=decoder\n",
        "\n",
        "  def train_step(self,data):\n",
        "    with tf.GradientTape() as tape: #now we can manually define the training\n",
        "\n",
        "      #forward path\n",
        "      mean,var,z=self.encoder(data)\n",
        "      decoded_img=self.decoder(z)\n",
        "      total_loss=TotalLoss(data,decoded_img,mean,var)\n",
        "\n",
        "    #backward path\n",
        "    grads=tape.gradient(total_loss,self.trainable_weights)\n",
        "    self.optimizer.apply_gradients(zip(grads,self.trainable_weights))\n"
      ],
      "metadata": {
        "id": "UjOZlkyAYGPE"
      },
      "execution_count": null,
      "outputs": []
    },
    {
      "cell_type": "markdown",
      "source": [
        "#Training"
      ],
      "metadata": {
        "id": "lWTIX01bdjS-"
      }
    },
    {
      "cell_type": "code",
      "source": [
        "vae=VAE(encoder,decoder)\n",
        "\n",
        "vae.compile(optimizer=keras.optimizers.Adam(learning_rate=0.001))\n",
        "history=vae.fit(complete_dataset,epochs=32,batch_size=128)\n"
      ],
      "metadata": {
        "id": "XkLo42yuYGQ6"
      },
      "execution_count": null,
      "outputs": []
    },
    {
      "cell_type": "code",
      "source": [
        "#@title TODO: training performance???"
      ],
      "metadata": {
        "id": "zGhOJscsYGSr"
      },
      "execution_count": null,
      "outputs": []
    },
    {
      "cell_type": "code",
      "source": [
        "testing_dim=[1,2] #mean, var\n",
        "\n",
        "x=vae.decoder.predict([testing_dim]).reshape((28,28))\n",
        "plt.imshow(x,camp='gray')"
      ],
      "metadata": {
        "id": "8VK-BNZKYGUb"
      },
      "execution_count": null,
      "outputs": []
    },
    {
      "cell_type": "code",
      "source": [
        "z=np.random.normal(loc=0,scale=4,size=(16,2)) #sample 16 random points from a normal distribution with mean 0 and var 4\n",
        "\n",
        "x=vae.decoder.predict(z)\n",
        "\n",
        "for i in range(16):\n",
        "  plt.subplot(4,4,i+1)\n",
        "  plt.imshow(x[i].reshape((28,28)),cmap='gray')\n",
        "  plt.axis('off')\n",
        "\n",
        "plt.show()"
      ],
      "metadata": {
        "id": "jSwaFmstfz8_"
      },
      "execution_count": null,
      "outputs": []
    },
    {
      "cell_type": "code",
      "source": [
        "#@title Conditional Variational AutoEncoder (TESTING)\n",
        "\n",
        "index=1280  # @param {type:\"integer\"}\n",
        "elem=x_train[index]\n",
        "\n",
        "print(elem.shape)\n",
        "batch=np.expand_dims(x_train[index], axis=0)\n",
        "print(batch.shape)\n",
        "\n",
        "batch=np.expand_dims(batch,axis=-1).astype('float32')/255\n",
        "print(batch.shape)\n",
        "\n",
        "mean,var,z=vae.encoder.predict(batch)\n",
        "\n",
        "print(z)\n",
        "print(z.shape)\n",
        "\n",
        "artificial=vae.decoder.predict([z])\n",
        "\n",
        "plt.figure(figsize=(28,28))\n",
        "\n",
        "plt.subplot(1,2,1)\n",
        "plt.imshow(elem,cmap='gray')\n",
        "plt.set_title('original')\n",
        "\n",
        "plt.subplot(1,2,2)\n",
        "plt.imshow(artificial,cmap='gray')\n",
        "plt.set_title('artificial')\n",
        "\n",
        "plt.show()"
      ],
      "metadata": {
        "id": "HjZiUod6fz_F"
      },
      "execution_count": null,
      "outputs": []
    },
    {
      "cell_type": "markdown",
      "source": [
        "#TODO: decoded imgs Scatter plot (we could see labels distribution)"
      ],
      "metadata": {
        "id": "9DKZ_39Jjeo4"
      }
    },
    {
      "cell_type": "code",
      "source": [],
      "metadata": {
        "id": "Z76GFni1f0BF"
      },
      "execution_count": null,
      "outputs": []
    }
  ]
}
