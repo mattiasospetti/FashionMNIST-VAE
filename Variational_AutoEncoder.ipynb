{
  "nbformat": 4,
  "nbformat_minor": 0,
  "metadata": {
    "colab": {
      "provenance": [],
      "collapsed_sections": [
        "9DKZ_39Jjeo4"
      ]
    },
    "kernelspec": {
      "name": "python3",
      "display_name": "Python 3"
    },
    "language_info": {
      "name": "python"
    }
  },
  "cells": [
    {
      "cell_type": "markdown",
      "source": [
        "# VAE testing on Fashion-MNIST"
      ],
      "metadata": {
        "id": "AI8fHVcuugMu"
      }
    },
    {
      "cell_type": "markdown",
      "source": [
        "#Dataset preprocessing"
      ],
      "metadata": {
        "id": "oqUFH2fEvZLC"
      }
    },
    {
      "cell_type": "code",
      "source": [
        "#@title Import libraries\n",
        "\n",
        "import tensorflow as tf\n",
        "import os\n",
        "import numpy as np\n",
        "\n",
        "#always check if you have available GPUs --> faster training\n",
        "print(tf.config.list_physical_devices('GPU'))\n",
        "\n",
        "#NB: if you do not find any GPU, check \"Runtime -> Change Runtime Type\" (October 26th 2023)"
      ],
      "metadata": {
        "colab": {
          "base_uri": "https://localhost:8080/"
        },
        "id": "Z-BSb9Nrukzg",
        "outputId": "a7fe8a7b-a0d2-4c3d-9fb2-7106efa23266"
      },
      "execution_count": 44,
      "outputs": [
        {
          "output_type": "stream",
          "name": "stdout",
          "text": [
            "[]\n"
          ]
        }
      ]
    },
    {
      "cell_type": "code",
      "source": [
        "from tensorflow.keras.datasets import fashion_mnist #(!)\n",
        "\n",
        "(x_train,y_train), (x_test,y_test)=fashion_mnist.load_data() #https://keras.io/api/datasets/fashion_mnist/ --> returns Tuple of NumPy arrays\n",
        "\n",
        "#some assertions to check everything is ok\n",
        "assert x_train.shape ==(60000,28,28) #(number of elems,dims)\n",
        "assert x_test.shape ==(10000,28,28) #(number of elems,dims)\n",
        "assert y_train.shape ==(60000,) #(number of elems,dims)\n",
        "assert y_test.shape ==(10000,) #(number of elems,dims)\n"
      ],
      "metadata": {
        "id": "U1-x3CWWuk38"
      },
      "execution_count": 45,
      "outputs": []
    },
    {
      "cell_type": "code",
      "source": [
        "#Let's have a look on how dataset looks like, before starting working on it\n",
        "# (it can be interpreted as a second check on the set)\n",
        "# plot in a 3x3 square\n",
        "\n",
        "import matplotlib.pyplot as plt\n",
        "from random import randrange\n",
        "\n",
        "num_elems=9 # @param {type:\"integer\"}\n",
        "plt.figure(figsize=(num_elems,num_elems))\n",
        "\n",
        "for i in range(num_elems):\n",
        "  plt.subplot(3,3,i+1)\n",
        "  choice=randrange(60000)\n",
        "  plt.imshow(x_train[choice], cmap='gray')\n",
        "  plt.axis('off')\n",
        "  #plt.title(y_train[choice])\n",
        "\n",
        "plt.tight_layout()\n",
        "plt.show()"
      ],
      "metadata": {
        "colab": {
          "base_uri": "https://localhost:8080/",
          "height": 906
        },
        "id": "KaCFsjHXuk6E",
        "outputId": "9e17166c-36e0-47f7-dd60-c2a7dc89ec59"
      },
      "execution_count": 46,
      "outputs": [
        {
          "output_type": "display_data",
          "data": {
            "text/plain": [
              "<Figure size 900x900 with 9 Axes>"
            ],
            "image/png": "[encoded data removed]"
          },
          "metadata": {}
        }
      ]
    },
    {
      "cell_type": "code",
      "source": [
        "# Since we're not interested in a classification task, we can join train and test datasets, to get more training data\n",
        "\n",
        "complete_dataset = np.concatenate([x_train,x_test], axis=0)\n",
        "\n",
        "print(complete_dataset[0].shape) #28x28, but conv layers need 28x28xN (N== number of color channels)\n",
        "\n",
        "# axis=-1 is like adding new axis\n",
        "complete_dataset=np.expand_dims(complete_dataset,-1).astype('float32')/255 #/255 to normalize dataset (we'll have values from 0 to 1)\n",
        "assert complete_dataset[0].shape==(28,28,1)\n",
        "\n",
        "'''\n",
        "for i in range(complete_dataset[0].shape[0]):\n",
        "  print(complete_dataset[0][i]) #you'll see values from 0 to 1\n",
        "'''"
      ],
      "metadata": {
        "colab": {
          "base_uri": "https://localhost:8080/",
          "height": 53
        },
        "id": "Vvv1VkR9uk8M",
        "outputId": "953c57a9-1f47-4d4b-fdaf-377800276836"
      },
      "execution_count": 47,
      "outputs": [
        {
          "output_type": "stream",
          "name": "stdout",
          "text": [
            "(28, 28)\n"
          ]
        },
        {
          "output_type": "execute_result",
          "data": {
            "text/plain": [
              "\"\\nfor i in range(complete_dataset[0].shape[0]):\\n  print(complete_dataset[0][i]) #you'll see values from 0 to 1\\n\""
            ],
            "application/vnd.google.colaboratory.intrinsic+json": {
              "type": "string"
            }
          },
          "metadata": {},
          "execution_count": 47
        }
      ]
    },
    {
      "cell_type": "markdown",
      "source": [
        "#Encoder-Decoder structure definition\n"
      ],
      "metadata": {
        "id": "hpDdAMl42F1O"
      }
    },
    {
      "cell_type": "code",
      "source": [
        "#@title Sampling Layer\n",
        "\n",
        "#First of all, we need a sampling layer\n",
        "\n",
        "from tensorflow import keras\n",
        "from keras import layers\n",
        "\n",
        "class SamplingLayer(layers.Layer):\n",
        "\n",
        "  def call(self,inputs):\n",
        "\n",
        "    #reparameterization trick --> add epsilon to the prob distribution to make it differentiable (so it can be backpropagated)\n",
        "\n",
        "    mean,var=inputs\n",
        "    batch=tf.shape(mean)[0]\n",
        "    dim=tf.shape(mean)[1]\n",
        "    epsilon=tf.keras.backend.random_normal(shape=(batch,dim))\n",
        "    return tf.exp(0.5*var)*epsilon\n"
      ],
      "metadata": {
        "id": "s32XnyeNvft5"
      },
      "execution_count": 48,
      "outputs": []
    },
    {
      "cell_type": "code",
      "source": [
        "#@title Encoder (TODO: TRY DIFFERENT NETWORK?)\n",
        "\n",
        "def Encoder(latentDim, inputs):\n",
        "\n",
        "  #feature extractor\n",
        "\n",
        "  l1=keras.models.Sequential([\n",
        "      layers.Conv2D(128,3,activation='relu', strides=2,padding='same'),\n",
        "      layers.Conv2D(64,3,activation='relu', strides=2,padding='same'),\n",
        "      layers.Flatten(),\n",
        "      layers.Dense(256, activation='relu') #256-size embedding vector (most relevant features)\n",
        "  ])\n",
        "\n",
        "  x=l1(inputs)\n",
        "\n",
        "  mean=layers.Dense(latentDim)(x) #todo: add 'name' to the layer\n",
        "\n",
        "  var=layers.Dense(latentDim)(x)\n",
        "\n",
        "  sample=SamplingLayer()([mean,var])\n",
        "\n",
        "  return keras.Model(inputs,[mean,var,sample],name='encoder')\n",
        "\n",
        "# input --> img\n",
        "# output --> probability distribution mean, variance\n",
        "inputs=keras.Input(shape=(28,28,1))\n",
        "encoder=Encoder(2,inputs)\n",
        "\n",
        "#Let's have a look at the Encoder\n",
        "encoder.summary()\n"
      ],
      "metadata": {
        "colab": {
          "base_uri": "https://localhost:8080/"
        },
        "id": "2A7ZreMc1ceW",
        "outputId": "ca80a0b0-9c05-4389-d966-fc7773c83885"
      },
      "execution_count": 49,
      "outputs": [
        {
          "output_type": "stream",
          "name": "stdout",
          "text": [
            "Model: \"encoder\"\n",
            "__________________________________________________________________________________________________\n",
            " Layer (type)                Output Shape                 Param #   Connected to                  \n",
            "==================================================================================================\n",
            " input_6 (InputLayer)        [(None, 28, 28, 1)]          0         []                            \n",
            "                                                                                                  \n",
            " sequential_5 (Sequential)   (None, 256)                  878144    ['input_6[0][0]']             \n",
            "                                                                                                  \n",
            " dense_12 (Dense)            (None, 2)                    514       ['sequential_5[0][0]']        \n",
            "                                                                                                  \n",
            " dense_13 (Dense)            (None, 2)                    514       ['sequential_5[0][0]']        \n",
            "                                                                                                  \n",
            " sampling_layer_3 (Sampling  (None, 2)                    0         ['dense_12[0][0]',            \n",
            " Layer)                                                              'dense_13[0][0]']            \n",
            "                                                                                                  \n",
            "==================================================================================================\n",
            "Total params: 879172 (3.35 MB)\n",
            "Trainable params: 879172 (3.35 MB)\n",
            "Non-trainable params: 0 (0.00 Byte)\n",
            "__________________________________________________________________________________________________\n"
          ]
        }
      ]
    },
    {
      "cell_type": "code",
      "source": [
        "#@title Decoder\n",
        "\n",
        "def Decoder(inputs):\n",
        "  l1=keras.models.Sequential([\n",
        "      layers.Dense(7*7*64, activation='relu', input_shape=(inputs.shape[1],)),\n",
        "      layers.Reshape((7,7,64)),\n",
        "      layers.Conv2DTranspose(128,3,activation='relu',strides=2, padding='same'), #from 7*7 to 14*14*128\n",
        "      layers.Conv2DTranspose(64,3,activation='relu',strides=2, padding='same'), #from 14*14 to 28x28x64\n",
        "      layers.Conv2DTranspose(1,3,activation='sigmoid', padding='same') #1 output channel --> grayscale, 28x28x1\n",
        "  ])\n",
        "\n",
        "  return keras.Model(inputs,l1(inputs),name='decoder')\n",
        "\n",
        "inputs=keras.Input(shape=(2,))#look Encoder output shape in the \"summary\"\n",
        "decoder=Decoder(inputs)\n",
        "decoder.summary()"
      ],
      "metadata": {
        "colab": {
          "base_uri": "https://localhost:8080/"
        },
        "id": "_0Tn1yc-3pdy",
        "outputId": "57d09f18-2723-4aa0-d5f1-52a4a5767595"
      },
      "execution_count": 50,
      "outputs": [
        {
          "output_type": "stream",
          "name": "stdout",
          "text": [
            "Model: \"decoder\"\n",
            "_________________________________________________________________\n",
            " Layer (type)                Output Shape              Param #   \n",
            "=================================================================\n",
            " input_7 (InputLayer)        [(None, 2)]               0         \n",
            "                                                                 \n",
            " sequential_6 (Sequential)   (None, 28, 28, 1)         157633    \n",
            "                                                                 \n",
            "=================================================================\n",
            "Total params: 157633 (615.75 KB)\n",
            "Trainable params: 157633 (615.75 KB)\n",
            "Non-trainable params: 0 (0.00 Byte)\n",
            "_________________________________________________________________\n"
          ]
        }
      ]
    },
    {
      "cell_type": "code",
      "source": [
        "#@title LOSS Functions\n",
        "\n",
        "#VAE has two loss functions, one per each VAE component (enc,dec) --> Kullback-Liebler Divergence loss function (enc) and reconstruction loss (dec)\n",
        "\n",
        "#reconstruction_loss: penalizes images different from the input ones\n",
        "def reconstruction_loss(data,reconstructed):\n",
        "  return tf.reduce_mean(\n",
        "      tf.reduce_sum(\n",
        "          keras.losses.binary_crossentropy(data,reconstructed),\n",
        "          axis=(1,2)\n",
        "      )\n",
        "  )\n",
        "\n",
        "#KLDivergence Loss: forces to generate probability distributions similar to the original\n",
        "def KLDivergence(mean,var):\n",
        "  return tf.reduce_mean(\n",
        "      tf.reduce_sum(\n",
        "          -0.5*(1+var-tf.square(mean)-tf.exp(var)),\n",
        "          axis=1\n",
        "      )\n",
        "  )\n",
        "\n",
        "def TotalLoss(data,reconstructed,mean,var):\n",
        "  loss1=reconstruction_loss(data,reconstructed)\n",
        "  loss2=KLDivergence(mean,var)\n",
        "  weight=3.0 #hyperparameter\n",
        "  return loss1+(loss2*weight)\n",
        "\n"
      ],
      "metadata": {
        "id": "L_1OhVgb5kNs"
      },
      "execution_count": 51,
      "outputs": []
    },
    {
      "cell_type": "code",
      "source": [
        "class VAE(keras.Model):\n",
        "  def __init__(self,encoder,decoder,**kwargs):\n",
        "    super(VAE,self).__init__(**kwargs)\n",
        "    self.encoder=encoder\n",
        "    self.decoder=decoder\n",
        "\n",
        "  def train_step(self,data):\n",
        "    with tf.GradientTape() as tape: #now we can manually define the training\n",
        "\n",
        "      #forward path\n",
        "      mean,var,z=self.encoder(data)\n",
        "      decoded_img=self.decoder(z)\n",
        "      total_loss=TotalLoss(data,decoded_img,mean,var)\n",
        "\n",
        "    #backward path\n",
        "    grads=tape.gradient(total_loss,self.trainable_weights)\n",
        "    self.optimizer.apply_gradients(zip(grads,self.trainable_weights))\n",
        "    return {\n",
        "        'total_loss': total_loss #here we could add kl and rec loss, to print them out at training time\n",
        "    }"
      ],
      "metadata": {
        "id": "UjOZlkyAYGPE"
      },
      "execution_count": 62,
      "outputs": []
    },
    {
      "cell_type": "markdown",
      "source": [
        "#Training"
      ],
      "metadata": {
        "id": "lWTIX01bdjS-"
      }
    },
    {
      "cell_type": "code",
      "source": [
        "vae=VAE(encoder,decoder)\n",
        "\n",
        "vae.compile(optimizer=keras.optimizers.Adam(learning_rate=0.001))\n",
        "history=vae.fit(complete_dataset,epochs=5,batch_size=128)\n"
      ],
      "metadata": {
        "colab": {
          "base_uri": "https://localhost:8080/"
        },
        "id": "XkLo42yuYGQ6",
        "outputId": "cb19e55a-2152-42a8-960c-8a19767fdb4d"
      },
      "execution_count": 63,
      "outputs": [
        {
          "output_type": "stream",
          "name": "stdout",
          "text": [
            "Epoch 1/5\n",
            "547/547 [==============================] - 311s 565ms/step - total: 351.8474\n",
            "Epoch 2/5\n",
            "547/547 [==============================] - 275s 502ms/step - total: 326.5376\n",
            "Epoch 3/5\n",
            "547/547 [==============================] - 273s 500ms/step - total: 323.4662\n",
            "Epoch 4/5\n",
            "547/547 [==============================] - 272s 497ms/step - total: 321.3983\n",
            "Epoch 5/5\n",
            "547/547 [==============================] - 272s 498ms/step - total: 320.3819\n"
          ]
        }
      ]
    },
    {
      "cell_type": "code",
      "source": [
        "testing_dim=[1,2] #mean, var\n",
        "\n",
        "print(vae.decoder.predict([testing_dim]).shape)\n",
        "x=vae.decoder.predict([testing_dim]).reshape((28,28))\n",
        "plt.imshow(x,cmap='gray')"
      ],
      "metadata": {
        "colab": {
          "base_uri": "https://localhost:8080/",
          "height": 499
        },
        "id": "8VK-BNZKYGUb",
        "outputId": "98c4b26f-29af-45c6-9ff1-68a73c3be684"
      },
      "execution_count": 67,
      "outputs": [
        {
          "output_type": "stream",
          "name": "stdout",
          "text": [
            "1/1 [==============================] - 0s 194ms/step\n",
            "(1, 28, 28, 1)\n",
            "1/1 [==============================] - 0s 161ms/step\n"
          ]
        },
        {
          "output_type": "execute_result",
          "data": {
            "text/plain": [
              "<matplotlib.image.AxesImage at 0x7fbf46e55000>"
            ]
          },
          "metadata": {},
          "execution_count": 67
        },
        {
          "output_type": "display_data",
          "data": {
            "text/plain": [
              "<Figure size 640x480 with 1 Axes>"
            ],
            "image/png": "[encoded data removed]"
          },
          "metadata": {}
        }
      ]
    },
    {
      "cell_type": "code",
      "source": [
        "'''\n",
        "z=np.random.normal(loc=0,scale=4,size=(16,2)) #sample 16 random points from a normal distribution with mean 0 and var 4\n",
        "\n",
        "x=vae.decoder.predict(z)\n",
        "\n",
        "for i in range(16):\n",
        "  plt.subplot(4,4,i+1)\n",
        "  plt.imshow(x[i].reshape((28,28)),cmap='gray')\n",
        "  plt.axis('off')\n",
        "\n",
        "plt.show()\n",
        "'''"
      ],
      "metadata": {
        "id": "jSwaFmstfz8_"
      },
      "execution_count": null,
      "outputs": []
    },
    {
      "cell_type": "code",
      "source": [
        "#@title Conditional Variational AutoEncoder (TESTING)\n",
        "\n",
        "index=1280  # @param {type:\"integer\"}\n",
        "elem=x_train[index]\n",
        "\n",
        "print(elem.shape)\n",
        "batch=np.expand_dims(x_train[index], axis=0)\n",
        "print(batch.shape)\n",
        "\n",
        "batch=np.expand_dims(batch,axis=-1).astype('float32')/255\n",
        "print(batch.shape)\n",
        "\n",
        "mean,var,z=vae.encoder.predict(batch)\n",
        "\n",
        "print(z)\n",
        "print(z.shape)\n",
        "\n",
        "artificial=vae.decoder.predict([z])\n",
        "\n",
        "plt.figure(figsize=(28,28))\n",
        "\n",
        "plt.subplot(1,2,1)\n",
        "plt.imshow(elem,cmap='gray')\n",
        "plt.title('original')\n",
        "\n",
        "plt.subplot(1,2,2)\n",
        "plt.imshow(artificial.reshape((28,28)),cmap='gray')\n",
        "plt.title('artificial')\n",
        "\n",
        "plt.show()"
      ],
      "metadata": {
        "colab": {
          "base_uri": "https://localhost:8080/",
          "height": 810
        },
        "id": "HjZiUod6fz_F",
        "outputId": "cd0de647-64a5-4c05-ba6d-39435b2d805d"
      },
      "execution_count": 70,
      "outputs": [
        {
          "output_type": "stream",
          "name": "stdout",
          "text": [
            "(28, 28)\n",
            "(1, 28, 28)\n",
            "(1, 28, 28, 1)\n",
            "1/1 [==============================] - 0s 66ms/step\n",
            "[[ 1.9843998  -0.01558254]]\n",
            "(1, 2)\n",
            "1/1 [==============================] - 0s 86ms/step\n"
          ]
        },
        {
          "output_type": "display_data",
          "data": {
            "text/plain": [
              "<Figure size 2800x2800 with 2 Axes>"
            ],
            "image/png": "[encoded data removed]"
          },
          "metadata": {}
        }
      ]
    },
    {
      "cell_type": "markdown",
      "source": [
        "#TODO: decoded imgs Scatter plot (we could see labels distribution)"
      ],
      "metadata": {
        "id": "9DKZ_39Jjeo4"
      }
    },
    {
      "cell_type": "code",
      "source": [],
      "metadata": {
        "id": "Z76GFni1f0BF"
      },
      "execution_count": null,
      "outputs": []
    }
  ]
}